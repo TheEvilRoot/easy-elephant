{
 "cells": [
  {
   "cell_type": "code",
   "execution_count": 1,
   "id": "d01c6ce4",
   "metadata": {},
   "outputs": [],
   "source": [
    "import math\n",
    "import numpy\n",
    "import random\n",
    "import matplotlib.pyplot as pl\n",
    "from tqdm.notebook import tqdm, trange"
   ]
  },
  {
   "cell_type": "code",
   "execution_count": 2,
   "id": "238dc940",
   "metadata": {},
   "outputs": [],
   "source": [
    "class Neuron:\n",
    "    def __init__(self, state=0.0, thr=None):\n",
    "        self.thr = thr if thr is not None else (random.random() - 0.5) * 2\n",
    "        self.state = state\n",
    "    \n",
    "    def __repr__(self):\n",
    "        return '(%.2f, %.2f)' % (self.state, self.thr)\n",
    "    \n",
    "    def __str__(self):\n",
    "        return self.__repr__()"
   ]
  },
  {
   "cell_type": "code",
   "execution_count": 3,
   "id": "a1798d66",
   "metadata": {},
   "outputs": [],
   "source": [
    "class Layer:\n",
    "    def __init__(self, length):\n",
    "        self.length = length\n",
    "        self.N = [Neuron() for i in range(length)]\n",
    "    \n",
    "    def broadcast(self, data):\n",
    "        for i in range(self.length):\n",
    "            x = i % len(data)\n",
    "            self.N[i].state = data[x]"
   ]
  },
  {
   "cell_type": "code",
   "execution_count": 18,
   "id": "24916e80",
   "metadata": {},
   "outputs": [],
   "source": [
    "class Perceptron:\n",
    "    def __init__(self, ilen, hlen, olen, alpha, f):\n",
    "        self.act_func = f\n",
    "        self.alpha = alpha\n",
    "        \n",
    "        self.input_layer = Layer(ilen)\n",
    "        self.hidden_layer = Layer(hlen)\n",
    "        self.out_layer = Layer(olen)\n",
    "        \n",
    "        self.iW = (numpy.random.rand(ilen, hlen) - 0.5) * 2\n",
    "        self.oW = (numpy.random.rand(hlen, olen) - 0.5) * 2\n",
    "        \n",
    "    def predict(self, data):\n",
    "        self.input_layer.broadcast(data)\n",
    "        dof(self.hidden_layer, self.input_layer, self.iW, self.act_func)\n",
    "        dof(self.out_layer, self.hidden_layer, self.oW, self.act_func)\n",
    "        res = []\n",
    "        for i in range(self.out_layer.length):\n",
    "            res.append(self.out_layer.N[i].state)\n",
    "        return res\n",
    "    \n",
    "    def forward(self, Y):\n",
    "        for i in range(self.oW.shape[0]):\n",
    "            for j in range(self.oW.shape[1]):\n",
    "                x = self.out_layer.N[j].state\n",
    "                c = self.hidden_layer.N[i].state\n",
    "                self.oW[i, j] += self.alpha * x * (1 - x) * (Y[j] - x) * c\n",
    "\n",
    "        for i in range(self.out_layer.length):\n",
    "            x = self.out_layer.N[i].state\n",
    "            self.out_layer.N[i].state += self.alpha * x * (1 - x) * (Y[i] - x)\n",
    "    \n",
    "    def backward(self, Y):\n",
    "        for i in range(self.iW.shape[0]):\n",
    "            for j in range(self.iW.shape[1]):\n",
    "                error = 0\n",
    "                for k in range(self.out_layer.length):\n",
    "                    x = self.out_layer.N[k].state\n",
    "                    error += (Y[k] - x) * x * (1 - x) * self.oW[j, k]\n",
    "                h = self.hidden_layer.N[j].state\n",
    "                self.iW[i, j] += self.alpha * self.input_layer.N[i].state * h * (1 - h) * error\n",
    "                if i == 0:\n",
    "                    self.hidden_layer.N[j].thr += self.alpha * h * (1 - h) * error\n",
    "    \n",
    "    def fit(self, X, Y, epoch=1000):\n",
    "        losses = []\n",
    "        for _ in range(epoch):\n",
    "            pred = self.predict(X)\n",
    "            pred = numpy.abs(Y - pred)\n",
    "            loss = pred.max()\n",
    "            self.forward(Y)\n",
    "            self.backward(Y)\n",
    "            losses.append(loss)\n",
    "        return losses"
   ]
  },
  {
   "cell_type": "code",
   "execution_count": 13,
   "id": "5de6e358",
   "metadata": {},
   "outputs": [],
   "source": [
    "def dof(h, i, w, f):\n",
    "    for x in range(h.length):\n",
    "        X = 0\n",
    "        for y in range(i.length):\n",
    "            X += w[y, x] * i.N[y].state\n",
    "        h.N[x].state = f(X + h.N[x].thr)"
   ]
  },
  {
   "cell_type": "code",
   "execution_count": 86,
   "id": "3c5634eb",
   "metadata": {},
   "outputs": [],
   "source": [
    "def noised(data, level):\n",
    "    out = data.copy()\n",
    "    for x in range(out.shape[1]):\n",
    "        for y in range(out.shape[0]): \n",
    "            if random.randint(0, 100) <= level:\n",
    "                out[y, x] = {0: 1, 1: 0}[data[y, x]]\n",
    "    return numpy.array(out, dtype=numpy.uint8)"
   ]
  },
  {
   "cell_type": "code",
   "execution_count": 72,
   "id": "dc607efb",
   "metadata": {},
   "outputs": [],
   "source": [
    "def reshape(data):\n",
    "    W = data.shape[0]\n",
    "    w = math.sqrt(W)\n",
    "    w = int(w)\n",
    "    h = W // w\n",
    "    return data.reshape(w, h)\n",
    "def show(data, pl=pl):\n",
    "    if len(data) == 1:\n",
    "        data = reshape(data)\n",
    "    pl.imshow(data, cmap='gray')"
   ]
  },
  {
   "cell_type": "code",
   "execution_count": 73,
   "id": "8bedba8c",
   "metadata": {},
   "outputs": [],
   "source": [
    "def grid(array, ncols=4, pad=2):\n",
    "    if isinstance(array, list):\n",
    "        array = map(lambda x: reshape(x) if len(x.shape) == 1 else x, array)\n",
    "        array = numpy.array([numpy.pad(x, pad) for x in array])\n",
    "    nindex, height, width = array.shape\n",
    "    nrows = nindex//ncols\n",
    "    result = (array.reshape(nrows, ncols, height, width, 1)\n",
    "              .swapaxes(1,2)\n",
    "              .reshape(height*nrows, width*ncols, 1))\n",
    "    return result"
   ]
  },
  {
   "cell_type": "code",
   "execution_count": 190,
   "id": "b9faf4b5",
   "metadata": {},
   "outputs": [],
   "source": [
    "golden = [a, b, c, d, e, ff]\n",
    "answers = [numpy.pad([1], (x, len(golden)-x-1)) for x in range(0, len(golden))]\n",
    "labels = ['a','b','c','d','e', 'f']\n",
    "losses = [[]] * len(golden)\n",
    "\n",
    "model = Perceptron(ilen=golden[0].shape[0], hlen=10, olen=len(golden), alpha=0.03, f=lambda x: 1.0 / (1 + math.e ** -x))"
   ]
  },
  {
   "cell_type": "code",
   "execution_count": null,
   "id": "0c57386d",
   "metadata": {
    "scrolled": false
   },
   "outputs": [
    {
     "data": {
      "application/vnd.jupyter.widget-view+json": {
       "model_id": "c915281801d24b9193189be1b73d7814",
       "version_major": 2,
       "version_minor": 0
      },
      "text/plain": [
       "  0%|          | 0/1000 [00:00<?, ?it/s]"
      ]
     },
     "metadata": {},
     "output_type": "display_data"
    }
   ],
   "source": [
    "fig, ax = pl.subplots(len(golden), 1, figsize=(10, 50))\n",
    "batch = 8\n",
    "epoch = 1000\n",
    "\n",
    "for _ in tqdm(range(epoch)):\n",
    "    for i, g in enumerate(golden):\n",
    "        losses[i] += model.fit(g, answers[i], epoch=batch)\n",
    "\n",
    "for i, g in enumerate(golden):\n",
    "    ax[i].plot(losses[i], marker='.')\n",
    "    # show(g, pl=ax[i][1])\n",
    "    \n",
    "# exam\n",
    "for x, y in zip(labels, golden):\n",
    "    X = model.predict(y)\n",
    "    Xi = X.index(max(X))\n",
    "    if x != labels[Xi]:\n",
    "        print('Fail %s: %s %r' % (x, labels[Xi], X))"
   ]
  },
  {
   "cell_type": "code",
   "execution_count": 66,
   "id": "1cf5eb82",
   "metadata": {},
   "outputs": [],
   "source": [
    "a = numpy.array([\n",
    "        0, 0, 1, 1, 1, 0,\n",
    "        0, 1, 0, 0, 1, 0,\n",
    "        0, 0, 0, 1, 0, 0,\n",
    "        0, 0, 1, 0, 0, 0,\n",
    "        0, 1, 0, 0, 0, 0,\n",
    "        1, 1, 1, 1, 1, 0,\n",
    "])\n",
    "\n",
    "b = numpy.array([\n",
    "        0, 0, 1, 1, 1, 0,\n",
    "        0, 1, 0, 0, 1, 0,\n",
    "        0, 0, 0, 1, 0, 0,\n",
    "        0, 0, 0, 1, 0, 0,\n",
    "        0, 1, 0, 0, 1, 0,\n",
    "        0, 0, 1, 1, 1, 0,\n",
    "])\n",
    "\n",
    "c = numpy.array([\n",
    "        0, 1, 0, 0, 1, 0,\n",
    "        0, 1, 0, 0, 1, 0,\n",
    "        0, 1, 0, 0, 1, 0,\n",
    "        0, 1, 1, 1, 1, 0,\n",
    "        0, 0, 0, 0, 1, 0,\n",
    "        0, 0, 0, 0, 1, 0,\n",
    "])\n",
    "\n",
    "d = numpy.array([\n",
    "        0, 1, 1, 1, 1, 0,\n",
    "        0, 1, 0, 0, 0, 0,\n",
    "        0, 1, 1, 1, 1, 0,\n",
    "        0, 0, 0, 0, 1, 0,\n",
    "        0, 0, 0, 0, 1, 0,\n",
    "        0, 1, 1, 1, 1, 0,\n",
    "])\n",
    "\n",
    "e = numpy.array([\n",
    "        1, 1, 1, 1, 1, 0,\n",
    "        0, 0, 0, 0, 1, 0,\n",
    "        0, 0, 0, 1, 0, 0,\n",
    "        0, 0, 1, 0, 0, 0,\n",
    "        0, 1, 0, 0, 0, 0,\n",
    "        1, 0, 0, 0, 0, 0,\n",
    "])\n",
    "\n",
    "ff = numpy.array([\n",
    "        0, 0, 0, 1, 0, 0,\n",
    "        0, 0, 1, 1, 0, 0,\n",
    "        0, 0, 0, 1, 0, 0,\n",
    "        0, 0, 0, 1, 0, 0,\n",
    "        0, 0, 0, 1, 0, 0,\n",
    "        0, 0, 1, 1, 1, 0,\n",
    "])"
   ]
  },
  {
   "cell_type": "code",
   "execution_count": 83,
   "id": "2f7f6b38",
   "metadata": {},
   "outputs": [
    {
     "data": {
      "text/plain": [
       "<matplotlib.image.AxesImage at 0x10ca117c0>"
      ]
     },
     "execution_count": 83,
     "metadata": {},
     "output_type": "execute_result"
    },
    {
     "data": {
      "image/png": "[encoded data removed]",
      "text/plain": [
       "<Figure size 432x288 with 1 Axes>"
      ]
     },
     "metadata": {
      "needs_background": "light"
     },
     "output_type": "display_data"
    }
   ],
   "source": [
    "pl.imshow(grid(golden, 3), cmap='gray')"
   ]
  },
  {
   "cell_type": "code",
   "execution_count": 175,
   "id": "2f88e4d2",
   "metadata": {},
   "outputs": [],
   "source": [
    "def demo(X, Y):\n",
    "    ran = range(0, 100, 10)\n",
    "    out = []\n",
    "    for i, level in enumerate(ran):\n",
    "        Xp = noised(reshape(X), level)\n",
    "        out.append(Xp)\n",
    "        Xp = Xp.reshape(36)\n",
    "        Yp = model.predict(Xp)\n",
    "        print('noise %3d%%' % (level, ))\n",
    "        for x, y in zip(Yp, labels):\n",
    "            print(' %s: %.1f%%' % (y, x * 100))\n",
    "        print(' result %s with %.2f%%' % (labels[Yp.index(max(Yp))], max(Yp) * 100))\n",
    "    return out"
   ]
  },
  {
   "cell_type": "code",
   "execution_count": 183,
   "id": "38734125",
   "metadata": {
    "scrolled": false
   },
   "outputs": [
    {
     "name": "stdout",
     "output_type": "stream",
     "text": [
      "noise   0%\n",
      " a: 69.9%\n",
      " b: 6.7%\n",
      " c: 7.0%\n",
      " d: 1.6%\n",
      " e: 18.6%\n",
      " f: 9.4%\n",
      " result a with 69.88%\n",
      "noise  10%\n",
      " a: 76.6%\n",
      " b: 10.4%\n",
      " c: 8.1%\n",
      " d: 1.6%\n",
      " e: 17.7%\n",
      " f: 14.7%\n",
      " result a with 76.64%\n",
      "noise  20%\n",
      " a: 17.2%\n",
      " b: 1.0%\n",
      " c: 3.2%\n",
      " d: 11.3%\n",
      " e: 4.6%\n",
      " f: 18.4%\n",
      " result f with 18.41%\n",
      "noise  30%\n",
      " a: 54.0%\n",
      " b: 2.5%\n",
      " c: 1.7%\n",
      " d: 9.9%\n",
      " e: 3.5%\n",
      " f: 26.3%\n",
      " result a with 54.00%\n",
      "noise  40%\n",
      " a: 0.9%\n",
      " b: 7.3%\n",
      " c: 10.6%\n",
      " d: 43.7%\n",
      " e: 8.7%\n",
      " f: 2.4%\n",
      " result d with 43.70%\n",
      "noise  50%\n",
      " a: 2.3%\n",
      " b: 14.3%\n",
      " c: 14.7%\n",
      " d: 49.2%\n",
      " e: 5.7%\n",
      " f: 4.1%\n",
      " result d with 49.24%\n",
      "noise  60%\n",
      " a: 3.5%\n",
      " b: 8.2%\n",
      " c: 9.8%\n",
      " d: 6.6%\n",
      " e: 55.5%\n",
      " f: 1.5%\n",
      " result e with 55.47%\n",
      "noise  70%\n",
      " a: 0.6%\n",
      " b: 27.8%\n",
      " c: 2.1%\n",
      " d: 49.1%\n",
      " e: 3.8%\n",
      " f: 12.4%\n",
      " result d with 49.12%\n",
      "noise  80%\n",
      " a: 0.5%\n",
      " b: 21.5%\n",
      " c: 5.0%\n",
      " d: 74.8%\n",
      " e: 1.7%\n",
      " f: 4.1%\n",
      " result d with 74.82%\n",
      "noise  90%\n",
      " a: 0.5%\n",
      " b: 43.7%\n",
      " c: 5.2%\n",
      " d: 68.6%\n",
      " e: 1.9%\n",
      " f: 10.2%\n",
      " result d with 68.57%\n"
     ]
    },
    {
     "data": {
      "text/plain": [
       "<matplotlib.image.AxesImage at 0x113f3c700>"
      ]
     },
     "execution_count": 183,
     "metadata": {},
     "output_type": "execute_result"
    },
    {
     "data": {
      "image/png": "[encoded data removed]",
      "text/plain": [
       "<Figure size 432x288 with 1 Axes>"
      ]
     },
     "metadata": {
      "needs_background": "light"
     },
     "output_type": "display_data"
    }
   ],
   "source": [
    "pl.imshow(grid(demo(a, 'a'), 2))"
   ]
  },
  {
   "cell_type": "code",
   "execution_count": 184,
   "id": "df8f5139",
   "metadata": {},
   "outputs": [
    {
     "name": "stdout",
     "output_type": "stream",
     "text": [
      "noise   0%\n",
      " a: 4.0%\n",
      " b: 80.9%\n",
      " c: 8.7%\n",
      " d: 8.6%\n",
      " e: 9.8%\n",
      " f: 11.9%\n",
      " result b with 80.90%\n",
      "noise  10%\n",
      " a: 4.1%\n",
      " b: 59.2%\n",
      " c: 7.5%\n",
      " d: 21.4%\n",
      " e: 5.4%\n",
      " f: 8.6%\n",
      " result b with 59.24%\n",
      "noise  20%\n",
      " a: 7.5%\n",
      " b: 68.4%\n",
      " c: 22.3%\n",
      " d: 3.5%\n",
      " e: 7.3%\n",
      " f: 7.3%\n",
      " result b with 68.43%\n",
      "noise  30%\n",
      " a: 27.6%\n",
      " b: 37.9%\n",
      " c: 5.9%\n",
      " d: 0.6%\n",
      " e: 14.4%\n",
      " f: 10.4%\n",
      " result b with 37.86%\n",
      "noise  40%\n",
      " a: 1.3%\n",
      " b: 52.5%\n",
      " c: 40.6%\n",
      " d: 29.4%\n",
      " e: 21.7%\n",
      " f: 0.6%\n",
      " result b with 52.51%\n",
      "noise  50%\n",
      " a: 4.7%\n",
      " b: 47.7%\n",
      " c: 3.0%\n",
      " d: 2.7%\n",
      " e: 29.4%\n",
      " f: 10.1%\n",
      " result b with 47.65%\n",
      "noise  60%\n",
      " a: 0.6%\n",
      " b: 39.3%\n",
      " c: 2.0%\n",
      " d: 30.9%\n",
      " e: 6.4%\n",
      " f: 8.3%\n",
      " result b with 39.33%\n",
      "noise  70%\n",
      " a: 0.7%\n",
      " b: 29.0%\n",
      " c: 10.9%\n",
      " d: 59.8%\n",
      " e: 4.4%\n",
      " f: 2.8%\n",
      " result d with 59.82%\n",
      "noise  80%\n",
      " a: 2.8%\n",
      " b: 6.9%\n",
      " c: 7.8%\n",
      " d: 26.6%\n",
      " e: 5.9%\n",
      " f: 3.9%\n",
      " result d with 26.56%\n",
      "noise  90%\n",
      " a: 2.9%\n",
      " b: 5.3%\n",
      " c: 3.7%\n",
      " d: 21.3%\n",
      " e: 8.5%\n",
      " f: 4.6%\n",
      " result d with 21.33%\n"
     ]
    },
    {
     "data": {
      "text/plain": [
       "<matplotlib.image.AxesImage at 0x11432c4c0>"
      ]
     },
     "execution_count": 184,
     "metadata": {},
     "output_type": "execute_result"
    },
    {
     "data": {
      "image/png": "[encoded data removed]",
      "text/plain": [
       "<Figure size 432x288 with 1 Axes>"
      ]
     },
     "metadata": {
      "needs_background": "light"
     },
     "output_type": "display_data"
    }
   ],
   "source": [
    "pl.imshow(grid(demo(b, 'b'), 2))"
   ]
  },
  {
   "cell_type": "code",
   "execution_count": 185,
   "id": "eb757cce",
   "metadata": {},
   "outputs": [
    {
     "name": "stdout",
     "output_type": "stream",
     "text": [
      "noise   0%\n",
      " a: 9.8%\n",
      " b: 7.1%\n",
      " c: 81.7%\n",
      " d: 11.4%\n",
      " e: 5.7%\n",
      " f: 1.6%\n",
      " result c with 81.67%\n",
      "noise  10%\n",
      " a: 8.2%\n",
      " b: 8.1%\n",
      " c: 69.7%\n",
      " d: 12.6%\n",
      " e: 7.2%\n",
      " f: 2.2%\n",
      " result c with 69.73%\n",
      "noise  20%\n",
      " a: 5.0%\n",
      " b: 5.1%\n",
      " c: 60.6%\n",
      " d: 27.5%\n",
      " e: 3.4%\n",
      " f: 3.1%\n",
      " result c with 60.60%\n",
      "noise  30%\n",
      " a: 9.3%\n",
      " b: 2.0%\n",
      " c: 17.4%\n",
      " d: 50.9%\n",
      " e: 0.4%\n",
      " f: 16.2%\n",
      " result d with 50.85%\n",
      "noise  40%\n",
      " a: 0.9%\n",
      " b: 6.6%\n",
      " c: 25.8%\n",
      " d: 84.6%\n",
      " e: 8.9%\n",
      " f: 13.0%\n",
      " result d with 84.63%\n",
      "noise  50%\n",
      " a: 15.2%\n",
      " b: 18.8%\n",
      " c: 26.7%\n",
      " d: 1.8%\n",
      " e: 22.8%\n",
      " f: 1.0%\n",
      " result c with 26.70%\n",
      "noise  60%\n",
      " a: 4.0%\n",
      " b: 3.4%\n",
      " c: 0.5%\n",
      " d: 23.3%\n",
      " e: 7.2%\n",
      " f: 10.4%\n",
      " result d with 23.27%\n",
      "noise  70%\n",
      " a: 2.6%\n",
      " b: 32.7%\n",
      " c: 0.4%\n",
      " d: 12.7%\n",
      " e: 2.9%\n",
      " f: 54.8%\n",
      " result f with 54.81%\n",
      "noise  80%\n",
      " a: 2.0%\n",
      " b: 3.8%\n",
      " c: 0.9%\n",
      " d: 35.7%\n",
      " e: 4.2%\n",
      " f: 13.8%\n",
      " result d with 35.68%\n",
      "noise  90%\n",
      " a: 1.6%\n",
      " b: 23.2%\n",
      " c: 0.3%\n",
      " d: 23.0%\n",
      " e: 4.4%\n",
      " f: 34.1%\n",
      " result f with 34.13%\n"
     ]
    },
    {
     "data": {
      "text/plain": [
       "<matplotlib.image.AxesImage at 0x1144f2eb0>"
      ]
     },
     "execution_count": 185,
     "metadata": {},
     "output_type": "execute_result"
    },
    {
     "data": {
      "image/png": "[encoded data removed]",
      "text/plain": [
       "<Figure size 432x288 with 1 Axes>"
      ]
     },
     "metadata": {
      "needs_background": "light"
     },
     "output_type": "display_data"
    }
   ],
   "source": [
    "pl.imshow(grid(demo(c, 'c'), 2))"
   ]
  },
  {
   "cell_type": "code",
   "execution_count": 186,
   "id": "ba76f2da",
   "metadata": {},
   "outputs": [
    {
     "name": "stdout",
     "output_type": "stream",
     "text": [
      "noise   0%\n",
      " a: 0.7%\n",
      " b: 6.5%\n",
      " c: 11.6%\n",
      " d: 84.8%\n",
      " e: 0.6%\n",
      " f: 11.3%\n",
      " result d with 84.79%\n",
      "noise  10%\n",
      " a: 0.9%\n",
      " b: 10.3%\n",
      " c: 6.8%\n",
      " d: 71.1%\n",
      " e: 0.6%\n",
      " f: 30.7%\n",
      " result d with 71.12%\n",
      "noise  20%\n",
      " a: 1.2%\n",
      " b: 11.0%\n",
      " c: 20.4%\n",
      " d: 70.4%\n",
      " e: 1.4%\n",
      " f: 6.2%\n",
      " result d with 70.40%\n",
      "noise  30%\n",
      " a: 5.0%\n",
      " b: 30.6%\n",
      " c: 1.5%\n",
      " d: 4.1%\n",
      " e: 13.1%\n",
      " f: 19.9%\n",
      " result b with 30.59%\n",
      "noise  40%\n",
      " a: 12.3%\n",
      " b: 1.9%\n",
      " c: 16.6%\n",
      " d: 10.1%\n",
      " e: 3.8%\n",
      " f: 9.7%\n",
      " result c with 16.62%\n",
      "noise  50%\n",
      " a: 8.3%\n",
      " b: 3.7%\n",
      " c: 8.3%\n",
      " d: 10.4%\n",
      " e: 12.8%\n",
      " f: 9.0%\n",
      " result e with 12.82%\n",
      "noise  60%\n",
      " a: 4.4%\n",
      " b: 33.1%\n",
      " c: 4.6%\n",
      " d: 6.1%\n",
      " e: 36.2%\n",
      " f: 4.8%\n",
      " result e with 36.22%\n",
      "noise  70%\n",
      " a: 6.0%\n",
      " b: 1.1%\n",
      " c: 2.4%\n",
      " d: 21.7%\n",
      " e: 1.3%\n",
      " f: 18.8%\n",
      " result d with 21.69%\n",
      "noise  80%\n",
      " a: 2.6%\n",
      " b: 48.5%\n",
      " c: 0.9%\n",
      " d: 5.9%\n",
      " e: 24.6%\n",
      " f: 28.6%\n",
      " result b with 48.48%\n",
      "noise  90%\n",
      " a: 5.8%\n",
      " b: 18.2%\n",
      " c: 10.3%\n",
      " d: 2.1%\n",
      " e: 88.4%\n",
      " f: 2.0%\n",
      " result e with 88.37%\n"
     ]
    },
    {
     "data": {
      "text/plain": [
       "<matplotlib.image.AxesImage at 0x113663490>"
      ]
     },
     "execution_count": 186,
     "metadata": {},
     "output_type": "execute_result"
    },
    {
     "data": {
      "image/png": "[encoded data removed]",
      "text/plain": [
       "<Figure size 432x288 with 1 Axes>"
      ]
     },
     "metadata": {
      "needs_background": "light"
     },
     "output_type": "display_data"
    }
   ],
   "source": [
    "pl.imshow(grid(demo(d, 'd'), 2))"
   ]
  },
  {
   "cell_type": "code",
   "execution_count": 187,
   "id": "7a8f772e",
   "metadata": {},
   "outputs": [
    {
     "name": "stdout",
     "output_type": "stream",
     "text": [
      "noise   0%\n",
      " a: 11.2%\n",
      " b: 8.7%\n",
      " c: 7.1%\n",
      " d: 1.1%\n",
      " e: 85.4%\n",
      " f: 0.8%\n",
      " result e with 85.44%\n",
      "noise  10%\n",
      " a: 7.7%\n",
      " b: 8.3%\n",
      " c: 7.7%\n",
      " d: 0.9%\n",
      " e: 79.9%\n",
      " f: 0.8%\n",
      " result e with 79.91%\n",
      "noise  20%\n",
      " a: 1.5%\n",
      " b: 32.0%\n",
      " c: 22.0%\n",
      " d: 10.5%\n",
      " e: 41.5%\n",
      " f: 0.5%\n",
      " result e with 41.52%\n",
      "noise  30%\n",
      " a: 4.2%\n",
      " b: 27.0%\n",
      " c: 53.5%\n",
      " d: 36.8%\n",
      " e: 29.1%\n",
      " f: 4.6%\n",
      " result c with 53.51%\n",
      "noise  40%\n",
      " a: 5.6%\n",
      " b: 25.6%\n",
      " c: 64.8%\n",
      " d: 7.7%\n",
      " e: 13.8%\n",
      " f: 0.7%\n",
      " result c with 64.82%\n",
      "noise  50%\n",
      " a: 11.2%\n",
      " b: 1.8%\n",
      " c: 15.4%\n",
      " d: 19.4%\n",
      " e: 7.7%\n",
      " f: 14.3%\n",
      " result d with 19.40%\n",
      "noise  60%\n",
      " a: 1.7%\n",
      " b: 7.3%\n",
      " c: 1.8%\n",
      " d: 49.4%\n",
      " e: 2.8%\n",
      " f: 13.4%\n",
      " result d with 49.42%\n",
      "noise  70%\n",
      " a: 1.9%\n",
      " b: 3.9%\n",
      " c: 4.3%\n",
      " d: 49.1%\n",
      " e: 2.0%\n",
      " f: 14.9%\n",
      " result d with 49.11%\n",
      "noise  80%\n",
      " a: 0.6%\n",
      " b: 74.6%\n",
      " c: 10.8%\n",
      " d: 46.0%\n",
      " e: 3.0%\n",
      " f: 22.2%\n",
      " result b with 74.57%\n",
      "noise  90%\n",
      " a: 0.5%\n",
      " b: 15.0%\n",
      " c: 8.3%\n",
      " d: 86.6%\n",
      " e: 0.7%\n",
      " f: 18.1%\n",
      " result d with 86.58%\n"
     ]
    },
    {
     "data": {
      "text/plain": [
       "<matplotlib.image.AxesImage at 0x1136bdb80>"
      ]
     },
     "execution_count": 187,
     "metadata": {},
     "output_type": "execute_result"
    },
    {
     "data": {
      "image/png": "[encoded data removed]",
      "text/plain": [
       "<Figure size 432x288 with 1 Axes>"
      ]
     },
     "metadata": {
      "needs_background": "light"
     },
     "output_type": "display_data"
    }
   ],
   "source": [
    "pl.imshow(grid(demo(e, 'e'), 2))"
   ]
  },
  {
   "cell_type": "code",
   "execution_count": 188,
   "id": "184b6268",
   "metadata": {},
   "outputs": [
    {
     "name": "stdout",
     "output_type": "stream",
     "text": [
      "noise   0%\n",
      " a: 12.7%\n",
      " b: 10.8%\n",
      " c: 1.7%\n",
      " d: 8.3%\n",
      " e: 1.1%\n",
      " f: 77.3%\n",
      " result f with 77.30%\n",
      "noise  10%\n",
      " a: 3.3%\n",
      " b: 14.5%\n",
      " c: 1.6%\n",
      " d: 20.6%\n",
      " e: 0.9%\n",
      " f: 71.0%\n",
      " result f with 71.02%\n",
      "noise  20%\n",
      " a: 4.9%\n",
      " b: 3.5%\n",
      " c: 1.1%\n",
      " d: 25.2%\n",
      " e: 2.5%\n",
      " f: 40.6%\n",
      " result f with 40.55%\n",
      "noise  30%\n",
      " a: 13.8%\n",
      " b: 3.0%\n",
      " c: 3.7%\n",
      " d: 31.1%\n",
      " e: 3.2%\n",
      " f: 28.7%\n",
      " result d with 31.12%\n",
      "noise  40%\n",
      " a: 3.5%\n",
      " b: 16.4%\n",
      " c: 1.7%\n",
      " d: 9.1%\n",
      " e: 12.7%\n",
      " f: 3.5%\n",
      " result b with 16.36%\n",
      "noise  50%\n",
      " a: 2.5%\n",
      " b: 15.9%\n",
      " c: 30.0%\n",
      " d: 38.8%\n",
      " e: 5.9%\n",
      " f: 2.8%\n",
      " result d with 38.81%\n",
      "noise  60%\n",
      " a: 12.4%\n",
      " b: 4.4%\n",
      " c: 3.2%\n",
      " d: 3.4%\n",
      " e: 5.3%\n",
      " f: 4.6%\n",
      " result a with 12.37%\n",
      "noise  70%\n",
      " a: 0.9%\n",
      " b: 12.0%\n",
      " c: 2.0%\n",
      " d: 18.6%\n",
      " e: 27.5%\n",
      " f: 5.8%\n",
      " result e with 27.50%\n",
      "noise  80%\n",
      " a: 2.3%\n",
      " b: 30.6%\n",
      " c: 23.2%\n",
      " d: 6.9%\n",
      " e: 50.6%\n",
      " f: 0.4%\n",
      " result e with 50.59%\n",
      "noise  90%\n",
      " a: 1.8%\n",
      " b: 20.6%\n",
      " c: 8.5%\n",
      " d: 15.7%\n",
      " e: 24.9%\n",
      " f: 1.1%\n",
      " result e with 24.95%\n"
     ]
    },
    {
     "data": {
      "text/plain": [
       "<matplotlib.image.AxesImage at 0x1145500d0>"
      ]
     },
     "execution_count": 188,
     "metadata": {},
     "output_type": "execute_result"
    },
    {
     "data": {
      "image/png": "[encoded data removed]",
      "text/plain": [
       "<Figure size 432x288 with 1 Axes>"
      ]
     },
     "metadata": {
      "needs_background": "light"
     },
     "output_type": "display_data"
    }
   ],
   "source": [
    "pl.imshow(grid(demo(ff, 'f'), 2))"
   ]
  },
  {
   "cell_type": "code",
   "execution_count": null,
   "id": "deacd9e1",
   "metadata": {},
   "outputs": [],
   "source": []
  }
 ],
 "metadata": {
  "kernelspec": {
   "display_name": "Python 3 (ipykernel)",
   "language": "python",
   "name": "python3"
  },
  "language_info": {
   "codemirror_mode": {
    "name": "ipython",
    "version": 3
   },
   "file_extension": ".py",
   "mimetype": "text/x-python",
   "name": "python",
   "nbconvert_exporter": "python",
   "pygments_lexer": "ipython3",
   "version": "3.9.7"
  }
 },
 "nbformat": 4,
 "nbformat_minor": 5
}
