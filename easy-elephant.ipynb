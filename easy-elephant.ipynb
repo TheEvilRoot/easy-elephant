{
 "cells": [
  {
   "cell_type": "code",
   "execution_count": 1,
   "id": "d01c6ce4",
   "metadata": {},
   "outputs": [],
   "source": [
    "import math\n",
    "import numpy\n",
    "import random\n",
    "import matplotlib.pyplot as pl\n",
    "from tqdm.notebook import tqdm, trange"
   ]
  },
  {
   "cell_type": "code",
   "execution_count": 2,
   "id": "238dc940",
   "metadata": {},
   "outputs": [],
   "source": [
    "class Neuron:\n",
    "    def __init__(self, state=0.0, thr=None):\n",
    "        self.thr = thr if thr is not None else (random.random() - 0.5) * 2\n",
    "        self.state = state\n",
    "    \n",
    "    def __repr__(self):\n",
    "        return '(%.2f, %.2f)' % (self.state, self.thr)\n",
    "    \n",
    "    def __str__(self):\n",
    "        return self.__repr__()"
   ]
  },
  {
   "cell_type": "code",
   "execution_count": 3,
   "id": "a1798d66",
   "metadata": {},
   "outputs": [],
   "source": [
    "class Layer:\n",
    "    def __init__(self, length):\n",
    "        self.length = length\n",
    "        self.N = [Neuron() for i in range(length)]\n",
    "    \n",
    "    def broadcast(self, data):\n",
    "        for i in range(self.length):\n",
    "            x = i % len(data)\n",
    "            self.N[i].state = data[x]"
   ]
  },
  {
   "cell_type": "code",
   "execution_count": 4,
   "id": "24916e80",
   "metadata": {},
   "outputs": [],
   "source": [
    "class Perceptron:\n",
    "    def __init__(self, ilen, hlen, olen, alpha, f):\n",
    "        self.act_func = f\n",
    "        self.alpha = alpha\n",
    "        \n",
    "        self.input_layer = Layer(ilen)\n",
    "        self.hidden_layer = Layer(hlen)\n",
    "        self.out_layer = Layer(olen)\n",
    "        \n",
    "        self.iW = (numpy.random.rand(ilen, hlen) - 0.5) * 2\n",
    "        self.oW = (numpy.random.rand(hlen, olen) - 0.5) * 2\n",
    "        \n",
    "    def predict(self, data):\n",
    "        self.input_layer.broadcast(data)\n",
    "        dof(self.hidden_layer, self.input_layer, self.iW, self.act_func)\n",
    "        dof(self.out_layer, self.hidden_layer, self.oW, self.act_func)\n",
    "        res = []\n",
    "        for i in range(self.out_layer.length):\n",
    "            res.append(self.out_layer.N[i].state)\n",
    "        return res\n",
    "    \n",
    "    def forward(self, Y):\n",
    "        for i in range(self.oW.shape[0]):\n",
    "            for j in range(self.oW.shape[1]):\n",
    "                x = self.out_layer.N[j].state\n",
    "                c = self.hidden_layer.N[i].state\n",
    "                self.oW[i, j] += self.alpha * x * (1 - x) * (Y[j] - x) * c\n",
    "\n",
    "        for i in range(self.out_layer.length):\n",
    "            x = self.out_layer.N[i].state\n",
    "            self.out_layer.N[i].state += self.alpha * x * (1 - x) * (Y[i] - x)\n",
    "    \n",
    "    def backward(self, Y):\n",
    "        for i in range(self.iW.shape[0]):\n",
    "            for j in range(self.iW.shape[1]):\n",
    "                error = 0\n",
    "                for k in range(self.out_layer.length):\n",
    "                    x = self.out_layer.N[k].state\n",
    "                    error += (Y[k] - x) * x * (1 - x) * self.oW[j, k]\n",
    "                h = self.hidden_layer.N[j].state\n",
    "                self.iW[i, j] += self.alpha * self.input_layer.N[i].state * h * (1 - h) * error\n",
    "                if i == 0:\n",
    "                    self.hidden_layer.N[j].thr += self.alpha * h * (1 - h) * error\n",
    "    \n",
    "    def fit(self, X, Y, epoch=1000):\n",
    "        losses = []\n",
    "        for _ in range(epoch):\n",
    "            pred = self.predict(X)\n",
    "            pred = numpy.abs(Y - pred)\n",
    "            loss = pred.max()\n",
    "            self.forward(Y)\n",
    "            self.backward(Y)\n",
    "            losses.append(loss)\n",
    "        return losses"
   ]
  },
  {
   "cell_type": "code",
   "execution_count": 5,
   "id": "5de6e358",
   "metadata": {},
   "outputs": [],
   "source": [
    "def dof(h, i, w, f):\n",
    "    for x in range(h.length):\n",
    "        X = 0\n",
    "        for y in range(i.length):\n",
    "            X += w[y, x] * i.N[y].state\n",
    "        h.N[x].state = f(X + h.N[x].thr)"
   ]
  },
  {
   "cell_type": "code",
   "execution_count": 6,
   "id": "84a7f63e",
   "metadata": {},
   "outputs": [],
   "source": [
    "def noised(data, level):\n",
    "    out = data.copy()\n",
    "    for x in range(out.shape[1]):\n",
    "        for y in range(out.shape[0]): \n",
    "            if random.randint(0, 100) <= level:\n",
    "                out[y, x] = {0: 1, 1: 0}[data[y, x]]\n",
    "    return numpy.array(out, dtype=numpy.uint8)"
   ]
  },
  {
   "cell_type": "code",
   "execution_count": 7,
   "id": "d855a11f",
   "metadata": {},
   "outputs": [],
   "source": [
    "def reshape(data):\n",
    "    W = data.shape[0]\n",
    "    w = math.sqrt(W)\n",
    "    w = int(w)\n",
    "    h = W // w\n",
    "    return data.reshape(w, h)\n",
    "def show(data, pl=pl):\n",
    "    if len(data) == 1:\n",
    "        data = reshape(data)\n",
    "    pl.imshow(data, cmap='gray')"
   ]
  },
  {
   "cell_type": "code",
   "execution_count": 8,
   "id": "f7ee7bc7",
   "metadata": {},
   "outputs": [],
   "source": [
    "def grid(array, ncols=4, pad=2):\n",
    "    if isinstance(array, list):\n",
    "        array = map(lambda x: reshape(x) if len(x.shape) == 1 else x, array)\n",
    "        array = numpy.array([numpy.pad(x, pad) for x in array])\n",
    "    nindex, height, width = array.shape\n",
    "    nrows = nindex//ncols\n",
    "    result = (array.reshape(nrows, ncols, height, width, 1)\n",
    "              .swapaxes(1,2)\n",
    "              .reshape(height*nrows, width*ncols, 1))\n",
    "    return result"
   ]
  },
  {
   "cell_type": "code",
   "execution_count": 10,
   "id": "f0bb8451",
   "metadata": {},
   "outputs": [],
   "source": [
    "golden = [a, b, c, d, e, ff]\n",
    "answers = [numpy.pad([1], (x, len(golden)-x-1)) for x in range(0, len(golden))]\n",
    "labels = ['a','b','c','d','e', 'f']\n",
    "losses = [[]] * len(golden)\n",
    "\n",
    "model = Perceptron(ilen=golden[0].shape[0], hlen=10, olen=len(golden), alpha=0.03, f=lambda x: 1.0 / (1 + math.e ** -x))"
   ]
  },
  {
   "cell_type": "code",
   "execution_count": 11,
   "id": "1492e871",
   "metadata": {
    "scrolled": false
   },
   "outputs": [
    {
     "data": {
      "application/vnd.jupyter.widget-view+json": {
       "model_id": "95f70a1ed7f844f19e410809a60d6131",
       "version_major": 2,
       "version_minor": 0
      },
      "text/plain": [
       "  0%|          | 0/500 [00:00<?, ?it/s]"
      ]
     },
     "metadata": {},
     "output_type": "display_data"
    },
    {
     "data": {
      "image/png": "[encoded data removed]",
      "text/plain": [
       "<Figure size 720x3600 with 6 Axes>"
      ]
     },
     "metadata": {
      "needs_background": "light"
     },
     "output_type": "display_data"
    }
   ],
   "source": [
    "fig, ax = pl.subplots(len(golden), 1, figsize=(10, 50))\n",
    "batch = 4\n",
    "epoch = 500\n",
    "\n",
    "for _ in tqdm(range(epoch)):\n",
    "    for i, g in enumerate(golden):\n",
    "        losses[i] += model.fit(g, answers[i], epoch=batch)\n",
    "\n",
    "for i, g in enumerate(golden):\n",
    "    ax[i].plot(losses[i], marker='.')\n",
    "    # show(g, pl=ax[i][1])\n",
    "    \n",
    "# exam\n",
    "for x, y in zip(labels, golden):\n",
    "    X = model.predict(y)\n",
    "    Xi = X.index(max(X))\n",
    "    if x != labels[Xi]:\n",
    "        print('Fail %s: %s %r' % (x, labels[Xi], X))"
   ]
  },
  {
   "cell_type": "code",
   "execution_count": 9,
   "id": "9ee939bb",
   "metadata": {},
   "outputs": [],
   "source": [
    "a = numpy.array([\n",
    "        0, 0, 1, 1, 1, 0,\n",
    "        0, 1, 0, 0, 1, 0,\n",
    "        0, 0, 0, 1, 0, 0,\n",
    "        0, 0, 1, 0, 0, 0,\n",
    "        0, 1, 0, 0, 0, 0,\n",
    "        1, 1, 1, 1, 1, 0,\n",
    "])\n",
    "\n",
    "b = numpy.array([\n",
    "        0, 0, 1, 1, 1, 0,\n",
    "        0, 1, 0, 0, 1, 0,\n",
    "        0, 0, 0, 1, 0, 0,\n",
    "        0, 0, 0, 1, 0, 0,\n",
    "        0, 1, 0, 0, 1, 0,\n",
    "        0, 0, 1, 1, 1, 0,\n",
    "])\n",
    "\n",
    "c = numpy.array([\n",
    "        0, 1, 0, 0, 1, 0,\n",
    "        0, 1, 0, 0, 1, 0,\n",
    "        0, 1, 0, 0, 1, 0,\n",
    "        0, 1, 1, 1, 1, 0,\n",
    "        0, 0, 0, 0, 1, 0,\n",
    "        0, 0, 0, 0, 1, 0,\n",
    "])\n",
    "\n",
    "d = numpy.array([\n",
    "        0, 1, 1, 1, 1, 0,\n",
    "        0, 1, 0, 0, 0, 0,\n",
    "        0, 1, 1, 1, 1, 0,\n",
    "        0, 0, 0, 0, 1, 0,\n",
    "        0, 0, 0, 0, 1, 0,\n",
    "        0, 1, 1, 1, 1, 0,\n",
    "])\n",
    "\n",
    "e = numpy.array([\n",
    "        1, 1, 1, 1, 1, 0,\n",
    "        0, 0, 0, 0, 1, 0,\n",
    "        0, 0, 0, 1, 0, 0,\n",
    "        0, 0, 1, 0, 0, 0,\n",
    "        0, 1, 0, 0, 0, 0,\n",
    "        1, 0, 0, 0, 0, 0,\n",
    "])\n",
    "\n",
    "ff = numpy.array([\n",
    "        0, 0, 0, 1, 0, 0,\n",
    "        0, 0, 1, 1, 0, 0,\n",
    "        0, 0, 0, 1, 0, 0,\n",
    "        0, 0, 0, 1, 0, 0,\n",
    "        0, 0, 0, 1, 0, 0,\n",
    "        0, 0, 1, 1, 1, 0,\n",
    "])"
   ]
  },
  {
   "cell_type": "code",
   "execution_count": 15,
   "id": "56666909",
   "metadata": {},
   "outputs": [
    {
     "data": {
      "text/plain": [
       "<matplotlib.image.AxesImage at 0x11a11f520>"
      ]
     },
     "execution_count": 15,
     "metadata": {},
     "output_type": "execute_result"
    },
    {
     "data": {
      "image/png": "[encoded data removed]",
      "text/plain": [
       "<Figure size 432x288 with 1 Axes>"
      ]
     },
     "metadata": {
      "needs_background": "light"
     },
     "output_type": "display_data"
    }
   ],
   "source": [
    "pl.imshow(grid(golden, 3), cmap='gray')"
   ]
  },
  {
   "cell_type": "code",
   "execution_count": 14,
   "id": "4ab6f0f6",
   "metadata": {},
   "outputs": [],
   "source": [
    "def demo(X, Y):\n",
    "    ran = range(0, 100, 10)\n",
    "    out = []\n",
    "    for i, level in enumerate(ran):\n",
    "        Xp = noised(reshape(X), level)\n",
    "        out.append(Xp)\n",
    "        Xp = Xp.reshape(36)\n",
    "        Yp = model.predict(Xp)\n",
    "        print('noise %3d%%' % (level, ))\n",
    "        for x, y in zip(Yp, labels):\n",
    "            print(' %s: %.1f%%' % (y, x * 100))\n",
    "        print(' result %s with %.2f%%' % (labels[Yp.index(max(Yp))], max(Yp) * 100))\n",
    "    return out"
   ]
  },
  {
   "cell_type": "code",
   "execution_count": 16,
   "id": "5ac727f0",
   "metadata": {
    "scrolled": false
   },
   "outputs": [
    {
     "name": "stdout",
     "output_type": "stream",
     "text": [
      "noise   0%\n",
      " a: 86.6%\n",
      " b: 5.2%\n",
      " c: 2.0%\n",
      " d: 7.9%\n",
      " e: 8.3%\n",
      " f: 6.2%\n",
      " result a with 86.57%\n",
      "noise  10%\n",
      " a: 80.5%\n",
      " b: 3.2%\n",
      " c: 1.4%\n",
      " d: 5.7%\n",
      " e: 12.8%\n",
      " f: 8.9%\n",
      " result a with 80.49%\n",
      "noise  20%\n",
      " a: 8.8%\n",
      " b: 21.4%\n",
      " c: 8.8%\n",
      " d: 16.4%\n",
      " e: 30.9%\n",
      " f: 1.6%\n",
      " result e with 30.87%\n",
      "noise  30%\n",
      " a: 23.2%\n",
      " b: 3.6%\n",
      " c: 15.6%\n",
      " d: 45.2%\n",
      " e: 20.9%\n",
      " f: 1.3%\n",
      " result d with 45.23%\n",
      "noise  40%\n",
      " a: 1.3%\n",
      " b: 64.3%\n",
      " c: 16.9%\n",
      " d: 29.4%\n",
      " e: 34.6%\n",
      " f: 9.7%\n",
      " result b with 64.25%\n",
      "noise  50%\n",
      " a: 1.4%\n",
      " b: 1.9%\n",
      " c: 4.0%\n",
      " d: 15.7%\n",
      " e: 66.8%\n",
      " f: 6.6%\n",
      " result e with 66.82%\n",
      "noise  60%\n",
      " a: 1.2%\n",
      " b: 4.6%\n",
      " c: 12.8%\n",
      " d: 42.2%\n",
      " e: 43.1%\n",
      " f: 5.0%\n",
      " result e with 43.09%\n",
      "noise  70%\n",
      " a: 0.3%\n",
      " b: 6.3%\n",
      " c: 10.8%\n",
      " d: 5.6%\n",
      " e: 71.9%\n",
      " f: 22.4%\n",
      " result e with 71.93%\n",
      "noise  80%\n",
      " a: 7.1%\n",
      " b: 1.2%\n",
      " c: 1.4%\n",
      " d: 3.2%\n",
      " e: 51.4%\n",
      " f: 20.5%\n",
      " result e with 51.38%\n",
      "noise  90%\n",
      " a: 0.3%\n",
      " b: 3.2%\n",
      " c: 23.5%\n",
      " d: 8.5%\n",
      " e: 37.3%\n",
      " f: 12.8%\n",
      " result e with 37.28%\n"
     ]
    },
    {
     "data": {
      "text/plain": [
       "<matplotlib.image.AxesImage at 0x11a11fb50>"
      ]
     },
     "execution_count": 16,
     "metadata": {},
     "output_type": "execute_result"
    },
    {
     "data": {
      "image/png": "[encoded data removed]",
      "text/plain": [
       "<Figure size 432x288 with 1 Axes>"
      ]
     },
     "metadata": {
      "needs_background": "light"
     },
     "output_type": "display_data"
    }
   ],
   "source": [
    "pl.imshow(grid(demo(a, 'a'), 2))"
   ]
  },
  {
   "cell_type": "code",
   "execution_count": 17,
   "id": "89d060ad",
   "metadata": {},
   "outputs": [
    {
     "name": "stdout",
     "output_type": "stream",
     "text": [
      "noise   0%\n",
      " a: 6.4%\n",
      " b: 88.3%\n",
      " c: 2.4%\n",
      " d: 8.0%\n",
      " e: 2.8%\n",
      " f: 9.3%\n",
      " result b with 88.28%\n",
      "noise  10%\n",
      " a: 1.6%\n",
      " b: 67.6%\n",
      " c: 2.4%\n",
      " d: 3.5%\n",
      " e: 13.7%\n",
      " f: 24.4%\n",
      " result b with 67.62%\n",
      "noise  20%\n",
      " a: 6.3%\n",
      " b: 49.4%\n",
      " c: 1.5%\n",
      " d: 2.2%\n",
      " e: 14.9%\n",
      " f: 50.1%\n",
      " result f with 50.07%\n",
      "noise  30%\n",
      " a: 6.0%\n",
      " b: 30.0%\n",
      " c: 4.2%\n",
      " d: 6.2%\n",
      " e: 1.7%\n",
      " f: 15.3%\n",
      " result b with 30.05%\n",
      "noise  40%\n",
      " a: 27.8%\n",
      " b: 4.1%\n",
      " c: 4.1%\n",
      " d: 37.3%\n",
      " e: 9.3%\n",
      " f: 1.0%\n",
      " result d with 37.33%\n",
      "noise  50%\n",
      " a: 5.4%\n",
      " b: 3.6%\n",
      " c: 13.9%\n",
      " d: 39.1%\n",
      " e: 8.0%\n",
      " f: 2.7%\n",
      " result d with 39.10%\n",
      "noise  60%\n",
      " a: 3.0%\n",
      " b: 1.4%\n",
      " c: 19.2%\n",
      " d: 51.8%\n",
      " e: 35.1%\n",
      " f: 1.8%\n",
      " result d with 51.83%\n",
      "noise  70%\n",
      " a: 0.8%\n",
      " b: 1.2%\n",
      " c: 23.2%\n",
      " d: 8.7%\n",
      " e: 92.7%\n",
      " f: 10.2%\n",
      " result e with 92.72%\n",
      "noise  80%\n",
      " a: 5.7%\n",
      " b: 0.7%\n",
      " c: 29.8%\n",
      " d: 3.5%\n",
      " e: 74.9%\n",
      " f: 14.6%\n",
      " result e with 74.93%\n",
      "noise  90%\n",
      " a: 0.9%\n",
      " b: 0.8%\n",
      " c: 21.9%\n",
      " d: 8.7%\n",
      " e: 90.3%\n",
      " f: 12.3%\n",
      " result e with 90.33%\n"
     ]
    },
    {
     "data": {
      "text/plain": [
       "<matplotlib.image.AxesImage at 0x11a1bd670>"
      ]
     },
     "execution_count": 17,
     "metadata": {},
     "output_type": "execute_result"
    },
    {
     "data": {
      "image/png": "[encoded data removed]",
      "text/plain": [
       "<Figure size 432x288 with 1 Axes>"
      ]
     },
     "metadata": {
      "needs_background": "light"
     },
     "output_type": "display_data"
    }
   ],
   "source": [
    "pl.imshow(grid(demo(b, 'b'), 2))"
   ]
  },
  {
   "cell_type": "code",
   "execution_count": 18,
   "id": "c3bdbe12",
   "metadata": {},
   "outputs": [
    {
     "name": "stdout",
     "output_type": "stream",
     "text": [
      "noise   0%\n",
      " a: 1.6%\n",
      " b: 3.7%\n",
      " c: 91.4%\n",
      " d: 7.2%\n",
      " e: 7.9%\n",
      " f: 6.2%\n",
      " result c with 91.37%\n",
      "noise  10%\n",
      " a: 2.9%\n",
      " b: 9.5%\n",
      " c: 78.2%\n",
      " d: 5.6%\n",
      " e: 5.4%\n",
      " f: 20.3%\n",
      " result c with 78.19%\n",
      "noise  20%\n",
      " a: 0.3%\n",
      " b: 5.9%\n",
      " c: 34.2%\n",
      " d: 2.3%\n",
      " e: 35.2%\n",
      " f: 15.8%\n",
      " result e with 35.21%\n",
      "noise  30%\n",
      " a: 1.3%\n",
      " b: 3.3%\n",
      " c: 7.4%\n",
      " d: 40.7%\n",
      " e: 50.7%\n",
      " f: 1.3%\n",
      " result e with 50.67%\n",
      "noise  40%\n",
      " a: 1.3%\n",
      " b: 7.1%\n",
      " c: 14.1%\n",
      " d: 0.6%\n",
      " e: 14.6%\n",
      " f: 58.7%\n",
      " result f with 58.72%\n",
      "noise  50%\n",
      " a: 3.2%\n",
      " b: 2.4%\n",
      " c: 10.5%\n",
      " d: 23.6%\n",
      " e: 14.2%\n",
      " f: 8.9%\n",
      " result d with 23.63%\n",
      "noise  60%\n",
      " a: 7.8%\n",
      " b: 3.5%\n",
      " c: 4.0%\n",
      " d: 14.1%\n",
      " e: 48.8%\n",
      " f: 20.8%\n",
      " result e with 48.77%\n",
      "noise  70%\n",
      " a: 20.1%\n",
      " b: 4.0%\n",
      " c: 0.8%\n",
      " d: 6.6%\n",
      " e: 45.3%\n",
      " f: 27.3%\n",
      " result e with 45.34%\n",
      "noise  80%\n",
      " a: 19.6%\n",
      " b: 4.5%\n",
      " c: 1.3%\n",
      " d: 4.9%\n",
      " e: 25.4%\n",
      " f: 48.2%\n",
      " result f with 48.22%\n",
      "noise  90%\n",
      " a: 4.9%\n",
      " b: 2.2%\n",
      " c: 2.2%\n",
      " d: 9.4%\n",
      " e: 87.4%\n",
      " f: 26.3%\n",
      " result e with 87.42%\n"
     ]
    },
    {
     "data": {
      "text/plain": [
       "<matplotlib.image.AxesImage at 0x11a2623a0>"
      ]
     },
     "execution_count": 18,
     "metadata": {},
     "output_type": "execute_result"
    },
    {
     "data": {
      "image/png": "[encoded data removed]",
      "text/plain": [
       "<Figure size 432x288 with 1 Axes>"
      ]
     },
     "metadata": {
      "needs_background": "light"
     },
     "output_type": "display_data"
    }
   ],
   "source": [
    "pl.imshow(grid(demo(c, 'c'), 2))"
   ]
  },
  {
   "cell_type": "code",
   "execution_count": 19,
   "id": "bb3eb16c",
   "metadata": {},
   "outputs": [
    {
     "name": "stdout",
     "output_type": "stream",
     "text": [
      "noise   0%\n",
      " a: 7.6%\n",
      " b: 7.9%\n",
      " c: 5.8%\n",
      " d: 85.5%\n",
      " e: 5.9%\n",
      " f: 0.5%\n",
      " result d with 85.51%\n",
      "noise  10%\n",
      " a: 3.1%\n",
      " b: 6.3%\n",
      " c: 7.2%\n",
      " d: 69.3%\n",
      " e: 9.7%\n",
      " f: 1.1%\n",
      " result d with 69.26%\n",
      "noise  20%\n",
      " a: 3.6%\n",
      " b: 6.8%\n",
      " c: 10.0%\n",
      " d: 75.5%\n",
      " e: 8.8%\n",
      " f: 0.7%\n",
      " result d with 75.54%\n",
      "noise  30%\n",
      " a: 1.2%\n",
      " b: 13.1%\n",
      " c: 19.9%\n",
      " d: 10.4%\n",
      " e: 4.9%\n",
      " f: 22.4%\n",
      " result f with 22.35%\n",
      "noise  40%\n",
      " a: 0.7%\n",
      " b: 2.0%\n",
      " c: 6.8%\n",
      " d: 6.6%\n",
      " e: 70.1%\n",
      " f: 7.8%\n",
      " result e with 70.14%\n",
      "noise  50%\n",
      " a: 0.7%\n",
      " b: 1.8%\n",
      " c: 3.9%\n",
      " d: 12.0%\n",
      " e: 73.6%\n",
      " f: 3.5%\n",
      " result e with 73.61%\n",
      "noise  60%\n",
      " a: 2.2%\n",
      " b: 26.1%\n",
      " c: 25.8%\n",
      " d: 8.9%\n",
      " e: 1.2%\n",
      " f: 12.6%\n",
      " result b with 26.09%\n",
      "noise  70%\n",
      " a: 0.8%\n",
      " b: 3.7%\n",
      " c: 13.1%\n",
      " d: 2.3%\n",
      " e: 59.7%\n",
      " f: 28.4%\n",
      " result e with 59.68%\n",
      "noise  80%\n",
      " a: 0.7%\n",
      " b: 2.7%\n",
      " c: 46.9%\n",
      " d: 0.9%\n",
      " e: 61.2%\n",
      " f: 32.0%\n",
      " result e with 61.20%\n",
      "noise  90%\n",
      " a: 0.8%\n",
      " b: 1.7%\n",
      " c: 9.5%\n",
      " d: 5.0%\n",
      " e: 74.6%\n",
      " f: 16.5%\n",
      " result e with 74.56%\n"
     ]
    },
    {
     "data": {
      "text/plain": [
       "<matplotlib.image.AxesImage at 0x11a2c2760>"
      ]
     },
     "execution_count": 19,
     "metadata": {},
     "output_type": "execute_result"
    },
    {
     "data": {
      "image/png": "[encoded data removed]",
      "text/plain": [
       "<Figure size 432x288 with 1 Axes>"
      ]
     },
     "metadata": {
      "needs_background": "light"
     },
     "output_type": "display_data"
    }
   ],
   "source": [
    "pl.imshow(grid(demo(d, 'd'), 2))"
   ]
  },
  {
   "cell_type": "code",
   "execution_count": 20,
   "id": "0a5e4521",
   "metadata": {},
   "outputs": [
    {
     "name": "stdout",
     "output_type": "stream",
     "text": [
      "noise   0%\n",
      " a: 6.8%\n",
      " b: 1.6%\n",
      " c: 5.3%\n",
      " d: 6.4%\n",
      " e: 86.5%\n",
      " f: 5.7%\n",
      " result e with 86.52%\n",
      "noise  10%\n",
      " a: 4.5%\n",
      " b: 1.4%\n",
      " c: 3.2%\n",
      " d: 6.9%\n",
      " e: 87.3%\n",
      " f: 12.5%\n",
      " result e with 87.25%\n",
      "noise  20%\n",
      " a: 8.5%\n",
      " b: 2.5%\n",
      " c: 18.3%\n",
      " d: 16.5%\n",
      " e: 75.8%\n",
      " f: 1.9%\n",
      " result e with 75.83%\n",
      "noise  30%\n",
      " a: 2.4%\n",
      " b: 2.8%\n",
      " c: 7.9%\n",
      " d: 2.8%\n",
      " e: 51.9%\n",
      " f: 22.4%\n",
      " result e with 51.87%\n",
      "noise  40%\n",
      " a: 3.5%\n",
      " b: 0.6%\n",
      " c: 19.1%\n",
      " d: 2.5%\n",
      " e: 88.1%\n",
      " f: 33.9%\n",
      " result e with 88.09%\n",
      "noise  50%\n",
      " a: 0.9%\n",
      " b: 5.7%\n",
      " c: 3.8%\n",
      " d: 19.1%\n",
      " e: 43.3%\n",
      " f: 4.6%\n",
      " result e with 43.31%\n",
      "noise  60%\n",
      " a: 1.6%\n",
      " b: 4.7%\n",
      " c: 5.4%\n",
      " d: 9.6%\n",
      " e: 86.1%\n",
      " f: 13.4%\n",
      " result e with 86.10%\n",
      "noise  70%\n",
      " a: 3.5%\n",
      " b: 2.1%\n",
      " c: 5.9%\n",
      " d: 6.7%\n",
      " e: 42.3%\n",
      " f: 14.4%\n",
      " result e with 42.30%\n",
      "noise  80%\n",
      " a: 0.4%\n",
      " b: 2.8%\n",
      " c: 12.0%\n",
      " d: 6.1%\n",
      " e: 47.2%\n",
      " f: 12.1%\n",
      " result e with 47.20%\n",
      "noise  90%\n",
      " a: 0.8%\n",
      " b: 4.0%\n",
      " c: 11.3%\n",
      " d: 8.1%\n",
      " e: 13.7%\n",
      " f: 13.0%\n",
      " result e with 13.68%\n"
     ]
    },
    {
     "data": {
      "text/plain": [
       "<matplotlib.image.AxesImage at 0x11a322d00>"
      ]
     },
     "execution_count": 20,
     "metadata": {},
     "output_type": "execute_result"
    },
    {
     "data": {
      "image/png": "[encoded data removed]",
      "text/plain": [
       "<Figure size 432x288 with 1 Axes>"
      ]
     },
     "metadata": {
      "needs_background": "light"
     },
     "output_type": "display_data"
    }
   ],
   "source": [
    "pl.imshow(grid(demo(e, 'e'), 2))"
   ]
  },
  {
   "cell_type": "code",
   "execution_count": 21,
   "id": "aeb5da71",
   "metadata": {},
   "outputs": [
    {
     "name": "stdout",
     "output_type": "stream",
     "text": [
      "noise   0%\n",
      " a: 6.7%\n",
      " b: 7.7%\n",
      " c: 4.5%\n",
      " d: 0.3%\n",
      " e: 6.8%\n",
      " f: 88.1%\n",
      " result f with 88.10%\n",
      "noise  10%\n",
      " a: 8.6%\n",
      " b: 15.4%\n",
      " c: 5.4%\n",
      " d: 0.5%\n",
      " e: 6.9%\n",
      " f: 75.5%\n",
      " result f with 75.49%\n",
      "noise  20%\n",
      " a: 2.6%\n",
      " b: 1.4%\n",
      " c: 42.8%\n",
      " d: 3.7%\n",
      " e: 17.7%\n",
      " f: 50.4%\n",
      " result f with 50.42%\n",
      "noise  30%\n",
      " a: 8.5%\n",
      " b: 13.5%\n",
      " c: 2.2%\n",
      " d: 1.1%\n",
      " e: 2.7%\n",
      " f: 68.8%\n",
      " result f with 68.83%\n",
      "noise  40%\n",
      " a: 2.8%\n",
      " b: 6.8%\n",
      " c: 11.7%\n",
      " d: 60.6%\n",
      " e: 9.0%\n",
      " f: 2.4%\n",
      " result d with 60.64%\n",
      "noise  50%\n",
      " a: 0.5%\n",
      " b: 2.1%\n",
      " c: 6.5%\n",
      " d: 15.2%\n",
      " e: 63.0%\n",
      " f: 3.1%\n",
      " result e with 62.99%\n",
      "noise  60%\n",
      " a: 0.8%\n",
      " b: 2.9%\n",
      " c: 23.8%\n",
      " d: 2.0%\n",
      " e: 75.0%\n",
      " f: 30.9%\n",
      " result e with 75.04%\n",
      "noise  70%\n",
      " a: 0.7%\n",
      " b: 2.3%\n",
      " c: 9.4%\n",
      " d: 18.5%\n",
      " e: 51.3%\n",
      " f: 5.4%\n",
      " result e with 51.32%\n",
      "noise  80%\n",
      " a: 0.3%\n",
      " b: 5.8%\n",
      " c: 32.6%\n",
      " d: 10.4%\n",
      " e: 72.4%\n",
      " f: 18.1%\n",
      " result e with 72.40%\n",
      "noise  90%\n",
      " a: 2.0%\n",
      " b: 1.2%\n",
      " c: 12.1%\n",
      " d: 36.8%\n",
      " e: 66.3%\n",
      " f: 0.9%\n",
      " result e with 66.30%\n"
     ]
    },
    {
     "data": {
      "text/plain": [
       "<matplotlib.image.AxesImage at 0x11a38f280>"
      ]
     },
     "execution_count": 21,
     "metadata": {},
     "output_type": "execute_result"
    },
    {
     "data": {
      "image/png": "[encoded data removed]",
      "text/plain": [
       "<Figure size 432x288 with 1 Axes>"
      ]
     },
     "metadata": {
      "needs_background": "light"
     },
     "output_type": "display_data"
    }
   ],
   "source": [
    "pl.imshow(grid(demo(ff, 'f'), 2))"
   ]
  }
 ],
 "metadata": {
  "kernelspec": {
   "display_name": "Python 3 (ipykernel)",
   "language": "python",
   "name": "python3"
  },
  "language_info": {
   "codemirror_mode": {
    "name": "ipython",
    "version": 3
   },
   "file_extension": ".py",
   "mimetype": "text/x-python",
   "name": "python",
   "nbconvert_exporter": "python",
   "pygments_lexer": "ipython3",
   "version": "3.9.7"
  }
 },
 "nbformat": 4,
 "nbformat_minor": 5
}
